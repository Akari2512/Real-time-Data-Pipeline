{
 "cells": [
  {
   "cell_type": "code",
   "execution_count": 1,
   "id": "5d64a267",
   "metadata": {},
   "outputs": [],
   "source": [
    "import os, shutil, glob, time\n",
    "import pandas as pd\n",
    "os.environ[\"HADOOP_HOME\"] = \"D:/hadoop\"\n",
    "os.environ[\"PATH\"] += os.pathsep + \"D:/hadoop/bin\"\n",
    "os.makedirs(\"D:/hadoop/checkpoint\", exist_ok=True)"
   ]
  },
  {
   "cell_type": "code",
   "execution_count": 2,
   "id": "8d39dc95",
   "metadata": {},
   "outputs": [],
   "source": [
    "from pyspark.sql import SparkSession\n",
    "from pyspark.sql.functions import from_json, col, from_unixtime\n",
    "from pyspark.sql.types import StructType, IntegerType, DoubleType, TimestampType\n",
    "import threading"
   ]
  },
  {
   "cell_type": "code",
   "execution_count": 3,
   "id": "5801dae5",
   "metadata": {},
   "outputs": [],
   "source": [
    "# Cấu hình thư mục\n",
    "output_dir = \"D:/sensor-data/output\"\n",
    "checkpoint_dir = \"D:/hadoop/checkpoint\"\n",
    "backup_dir = \"D:/sensor-data/backup\"\n",
    "\n",
    "# Tạo thư mục nếu chưa có\n",
    "os.makedirs(output_dir, exist_ok=True)\n",
    "os.makedirs(checkpoint_dir, exist_ok=True)\n",
    "os.makedirs(backup_dir, exist_ok=True)\n",
    "\n",
    "\n",
    "def merge_csv_files_clean_headers(input_dir, output_file):\n",
    "    csv_files = glob.glob(os.path.join(input_dir, \"part-*\"))\n",
    "    if not csv_files:\n",
    "        print(\"⚠️ Không có file để gộp.\")\n",
    "        return\n",
    "\n",
    "    dfs = []\n",
    "    for file in csv_files:\n",
    "        try:\n",
    "            df = pd.read_csv(file, header=None)  # Không có header\n",
    "            # Lọc bỏ các dòng tiêu đề trùng (ví dụ: dòng chứa 'sensor_id')\n",
    "            df = df[df[0] != 'sensor_id']\n",
    "            dfs.append(df)\n",
    "        except Exception as e:\n",
    "            print(f\"❌ Lỗi đọc file {file}: {e}\")\n",
    "\n",
    "    if dfs:\n",
    "        merged_df = pd.concat(dfs, ignore_index=True)\n",
    "        # Gán lại tên cột chuẩn\n",
    "        merged_df.columns = ['sensor_id', 'temperature', 'humidity', 'timestamp']\n",
    "        merged_df.to_csv(output_file, index=False)\n",
    "        print(f\"✅ Đã gộp và làm sạch thành {output_file}\")\n",
    "    else:\n",
    "        print(\"⚠️ Không có nội dung hợp lệ để gộp.\")\n",
    "\n",
    "\n",
    "# Hàm xoá thư mục cũ\n",
    "def cleanup_dirs():\n",
    "    shutil.rmtree(output_dir, ignore_errors=True)\n",
    "    shutil.rmtree(checkpoint_dir, ignore_errors=True)\n",
    "    print(\"🧹 Đã xoá output và checkpoint.\")\n"
   ]
  },
  {
   "cell_type": "code",
   "execution_count": 4,
   "id": "783da17f",
   "metadata": {},
   "outputs": [
    {
     "name": "stdout",
     "output_type": "stream",
     "text": [
      "🔴 Đã dừng stream sau 2 phút.\n"
     ]
    }
   ],
   "source": [
    "# Khởi tạo SparkSession\n",
    "spark = SparkSession.builder \\\n",
    "    .appName(\"KafkaSensorConsumerAuto\") \\\n",
    "    .master(\"local[*]\") \\\n",
    "    .config(\"spark.jars.packages\", \"org.apache.spark:spark-sql-kafka-0-10_2.12:3.3.2\") \\\n",
    "    .config(\"spark.hadoop.home.dir\", \"D:/hadoop\") \\\n",
    "    .getOrCreate()\n",
    "\n",
    "spark.sparkContext.setLogLevel(\"WARN\")\n",
    "\n",
    "# Schema dữ liệu JSON\n",
    "schema = StructType() \\\n",
    "    .add('sensor_id', IntegerType()) \\\n",
    "    .add('temperature', DoubleType()) \\\n",
    "    .add('humidity', DoubleType()) \\\n",
    "    .add('timestamp', DoubleType())  \n",
    "\n",
    "# Đọc dữ liệu từ Kafka\n",
    "df_raw = spark.readStream \\\n",
    "    .format('kafka') \\\n",
    "    .option('kafka.bootstrap.servers', 'localhost:9092') \\\n",
    "    .option('subscribe', 'sensor-data') \\\n",
    "    .option('startingOffsets', 'latest') \\\n",
    "    .load()\n",
    "\n",
    "df_parsed = df_raw.selectExpr(\"CAST(value AS STRING)\") \\\n",
    "    .select(from_json(col(\"value\"), schema).alias(\"data\")) \\\n",
    "    .select(\"data.*\") \\\n",
    "    .withColumn(\"timestamp\", from_unixtime(col(\"timestamp\")).cast(\"string\"))  \n",
    "\n",
    "# Ghi dữ liệu vào file CSV\n",
    "query = df_parsed.writeStream \\\n",
    "    .option(\"path\", output_dir) \\\n",
    "    .option(\"checkpointLocation\", checkpoint_dir) \\\n",
    "    .option(\"header\", True) \\\n",
    "    .format(\"csv\") \\\n",
    "    .start()\n",
    "\n",
    "query.awaitTermination(120)  # 120 giây = 2 phút\n",
    "query.stop()\n",
    "print(\"🔴 Đã dừng stream sau 2 phút.\")\n",
    "\n"
   ]
  },
  {
   "cell_type": "code",
   "execution_count": 5,
   "id": "1ffe5dc4",
   "metadata": {},
   "outputs": [
    {
     "name": "stdout",
     "output_type": "stream",
     "text": [
      "✅ Đã gộp và làm sạch thành D:/sensor-data/backup/merged_20250615_125608.csv\n"
     ]
    }
   ],
   "source": [
    "timestamp_str = time.strftime(\"%Y%m%d_%H%M%S\")\n",
    "merged_file_path = f\"{backup_dir}/merged_{timestamp_str}.csv\"\n",
    "merge_csv_files_clean_headers(output_dir, merged_file_path)\n"
   ]
  },
  {
   "cell_type": "code",
   "execution_count": 6,
   "id": "db100e83",
   "metadata": {},
   "outputs": [
    {
     "name": "stdout",
     "output_type": "stream",
     "text": [
      "🧹 Đã xoá output và checkpoint.\n"
     ]
    }
   ],
   "source": [
    "cleanup_dirs()"
   ]
  }
 ],
 "metadata": {
  "kernelspec": {
   "display_name": "Python 3",
   "language": "python",
   "name": "python3"
  },
  "language_info": {
   "codemirror_mode": {
    "name": "ipython",
    "version": 3
   },
   "file_extension": ".py",
   "mimetype": "text/x-python",
   "name": "python",
   "nbconvert_exporter": "python",
   "pygments_lexer": "ipython3",
   "version": "3.11.6"
  }
 },
 "nbformat": 4,
 "nbformat_minor": 5
}
